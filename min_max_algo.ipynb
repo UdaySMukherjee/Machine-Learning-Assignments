{
  "nbformat": 4,
  "nbformat_minor": 0,
  "metadata": {
    "colab": {
      "provenance": [],
      "authorship_tag": "ABX9TyMcaMRsKJGh5um0xFWEeZU9",
      "include_colab_link": true
    },
    "kernelspec": {
      "name": "python3",
      "display_name": "Python 3"
    },
    "language_info": {
      "name": "python"
    }
  },
  "cells": [
    {
      "cell_type": "markdown",
      "metadata": {
        "id": "view-in-github",
        "colab_type": "text"
      },
      "source": [
        "<a href=\"https://colab.research.google.com/github/UdaySMukherjee/Machine-Learning-Tasks/blob/main/min_max_algo.ipynb\" target=\"_parent\"><img src=\"https://colab.research.google.com/assets/colab-badge.svg\" alt=\"Open In Colab\"/></a>"
      ]
    },
    {
      "cell_type": "code",
      "execution_count": null,
      "metadata": {
        "id": "5zEcw4w2qWpg",
        "colab": {
          "base_uri": "https://localhost:8080/"
        },
        "outputId": "1e116e63-c5d3-4a3e-cfe8-a328f758bcf9"
      },
      "outputs": [
        {
          "output_type": "stream",
          "name": "stdout",
          "text": [
            "The optimal value is : 12\n"
          ]
        }
      ],
      "source": [
        "import math\n",
        "\n",
        "def minimax (curDepth, nodeIndex,\n",
        "             maxTurn, scores,\n",
        "             targetDepth):\n",
        "\n",
        "\n",
        "    if (curDepth == targetDepth):\n",
        "        return scores[nodeIndex]\n",
        "\n",
        "    if (maxTurn):\n",
        "        return max(minimax(curDepth + 1, nodeIndex * 2,\n",
        "                    False, scores, targetDepth),\n",
        "                   minimax(curDepth + 1, nodeIndex * 2 + 1,\n",
        "                    False, scores, targetDepth))\n",
        "\n",
        "    else:\n",
        "        return min(minimax(curDepth + 1, nodeIndex * 2,\n",
        "                     True, scores, targetDepth),\n",
        "                   minimax(curDepth + 1, nodeIndex * 2 + 1,\n",
        "                     True, scores, targetDepth))\n",
        "\n",
        "\n",
        "scores = [3, 5, 2, 9, 12, 5, 23, 23]\n",
        "\n",
        "treeDepth = math.log(len(scores), 2)\n",
        "\n",
        "print(\"The optimal value is : \", end = \"\")\n",
        "print(minimax(0, 0, True, scores, treeDepth))"
      ]
    }
  ]
}