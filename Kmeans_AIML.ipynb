{
  "nbformat": 4,
  "nbformat_minor": 0,
  "metadata": {
    "colab": {
      "provenance": [],
      "authorship_tag": "ABX9TyP27+PKjFUMIlSeb+T7JVy+",
      "include_colab_link": true
    },
    "kernelspec": {
      "name": "python3",
      "display_name": "Python 3"
    },
    "language_info": {
      "name": "python"
    }
  },
  "cells": [
    {
      "cell_type": "markdown",
      "metadata": {
        "id": "view-in-github",
        "colab_type": "text"
      },
      "source": [
        "<a href=\"https://colab.research.google.com/github/UdaySMukherjee/Machine-Learning-Tasks/blob/main/Kmeans_AIML.ipynb\" target=\"_parent\"><img src=\"https://colab.research.google.com/assets/colab-badge.svg\" alt=\"Open In Colab\"/></a>"
      ]
    },
    {
      "cell_type": "code",
      "execution_count": null,
      "metadata": {
        "colab": {
          "base_uri": "https://localhost:8080/"
        },
        "id": "s1kalRjd0goF",
        "outputId": "6181eb04-494b-4b23-89ff-bfe024f2cb84"
      },
      "outputs": [
        {
          "output_type": "stream",
          "name": "stdout",
          "text": [
            "Mounted at /content/gdrive\n"
          ]
        },
        {
          "output_type": "execute_result",
          "data": {
            "text/plain": [
              "<bound method DataFrame.info of             W         X         Y         Z    Batsman\n",
              "0    0.000000  0.416667  0.016949  0.000000      Kohli\n",
              "1    0.027778  0.500000  0.050847  0.041667      Kohli\n",
              "2    0.166667  0.208333  0.593220  0.666667    Ganguly\n",
              "3    0.166667  0.166667  0.389831  0.375000  Tendulkar\n",
              "4    0.166667  0.458333  0.084746  0.041667      Kohli\n",
              "..        ...       ...       ...       ...        ...\n",
              "130  0.944444  0.416667  0.864407  0.916667    Ganguly\n",
              "131  0.944444  0.250000  1.000000  0.916667    Ganguly\n",
              "132  0.944444  0.750000  0.966102  0.875000    Ganguly\n",
              "133  0.944444  0.333333  0.966102  0.791667    Ganguly\n",
              "134  1.000000  0.750000  0.915254  0.791667    Ganguly\n",
              "\n",
              "[135 rows x 5 columns]>"
            ]
          },
          "metadata": {},
          "execution_count": 2
        }
      ],
      "source": [
        "import numpy as np\n",
        "import pandas as pd\n",
        "import matplotlib.pyplot as plt\n",
        "\n",
        "from google.colab import drive\n",
        "drive.mount('/content/gdrive',force_remount=True)\n",
        "\n",
        "df = pd.read_csv('/content/gdrive/MyDrive/K-Means Dataset for Lab test.csv')\n",
        "df.info"
      ]
    },
    {
      "cell_type": "code",
      "source": [
        "df.head()\n"
      ],
      "metadata": {
        "colab": {
          "base_uri": "https://localhost:8080/",
          "height": 206
        },
        "id": "VPtyhxF12GRV",
        "outputId": "09d67421-a95a-495e-85ca-b21e5af863c7"
      },
      "execution_count": null,
      "outputs": [
        {
          "output_type": "execute_result",
          "data": {
            "text/plain": [
              "          W         X         Y         Z    Batsman\n",
              "0  0.000000  0.416667  0.016949  0.000000      Kohli\n",
              "1  0.027778  0.500000  0.050847  0.041667      Kohli\n",
              "2  0.166667  0.208333  0.593220  0.666667    Ganguly\n",
              "3  0.166667  0.166667  0.389831  0.375000  Tendulkar\n",
              "4  0.166667  0.458333  0.084746  0.041667      Kohli"
            ],
            "text/html": [
              "\n",
              "  <div id=\"df-04e52f0a-ef90-482e-8e9c-f7e06f138290\">\n",
              "    <div class=\"colab-df-container\">\n",
              "      <div>\n",
              "<style scoped>\n",
              "    .dataframe tbody tr th:only-of-type {\n",
              "        vertical-align: middle;\n",
              "    }\n",
              "\n",
              "    .dataframe tbody tr th {\n",
              "        vertical-align: top;\n",
              "    }\n",
              "\n",
              "    .dataframe thead th {\n",
              "        text-align: right;\n",
              "    }\n",
              "</style>\n",
              "<table border=\"1\" class=\"dataframe\">\n",
              "  <thead>\n",
              "    <tr style=\"text-align: right;\">\n",
              "      <th></th>\n",
              "      <th>W</th>\n",
              "      <th>X</th>\n",
              "      <th>Y</th>\n",
              "      <th>Z</th>\n",
              "      <th>Batsman</th>\n",
              "    </tr>\n",
              "  </thead>\n",
              "  <tbody>\n",
              "    <tr>\n",
              "      <th>0</th>\n",
              "      <td>0.000000</td>\n",
              "      <td>0.416667</td>\n",
              "      <td>0.016949</td>\n",
              "      <td>0.000000</td>\n",
              "      <td>Kohli</td>\n",
              "    </tr>\n",
              "    <tr>\n",
              "      <th>1</th>\n",
              "      <td>0.027778</td>\n",
              "      <td>0.500000</td>\n",
              "      <td>0.050847</td>\n",
              "      <td>0.041667</td>\n",
              "      <td>Kohli</td>\n",
              "    </tr>\n",
              "    <tr>\n",
              "      <th>2</th>\n",
              "      <td>0.166667</td>\n",
              "      <td>0.208333</td>\n",
              "      <td>0.593220</td>\n",
              "      <td>0.666667</td>\n",
              "      <td>Ganguly</td>\n",
              "    </tr>\n",
              "    <tr>\n",
              "      <th>3</th>\n",
              "      <td>0.166667</td>\n",
              "      <td>0.166667</td>\n",
              "      <td>0.389831</td>\n",
              "      <td>0.375000</td>\n",
              "      <td>Tendulkar</td>\n",
              "    </tr>\n",
              "    <tr>\n",
              "      <th>4</th>\n",
              "      <td>0.166667</td>\n",
              "      <td>0.458333</td>\n",
              "      <td>0.084746</td>\n",
              "      <td>0.041667</td>\n",
              "      <td>Kohli</td>\n",
              "    </tr>\n",
              "  </tbody>\n",
              "</table>\n",
              "</div>\n",
              "      <button class=\"colab-df-convert\" onclick=\"convertToInteractive('df-04e52f0a-ef90-482e-8e9c-f7e06f138290')\"\n",
              "              title=\"Convert this dataframe to an interactive table.\"\n",
              "              style=\"display:none;\">\n",
              "        \n",
              "  <svg xmlns=\"http://www.w3.org/2000/svg\" height=\"24px\"viewBox=\"0 0 24 24\"\n",
              "       width=\"24px\">\n",
              "    <path d=\"M0 0h24v24H0V0z\" fill=\"none\"/>\n",
              "    <path d=\"M18.56 5.44l.94 2.06.94-2.06 2.06-.94-2.06-.94-.94-2.06-.94 2.06-2.06.94zm-11 1L8.5 8.5l.94-2.06 2.06-.94-2.06-.94L8.5 2.5l-.94 2.06-2.06.94zm10 10l.94 2.06.94-2.06 2.06-.94-2.06-.94-.94-2.06-.94 2.06-2.06.94z\"/><path d=\"M17.41 7.96l-1.37-1.37c-.4-.4-.92-.59-1.43-.59-.52 0-1.04.2-1.43.59L10.3 9.45l-7.72 7.72c-.78.78-.78 2.05 0 2.83L4 21.41c.39.39.9.59 1.41.59.51 0 1.02-.2 1.41-.59l7.78-7.78 2.81-2.81c.8-.78.8-2.07 0-2.86zM5.41 20L4 18.59l7.72-7.72 1.47 1.35L5.41 20z\"/>\n",
              "  </svg>\n",
              "      </button>\n",
              "      \n",
              "  <style>\n",
              "    .colab-df-container {\n",
              "      display:flex;\n",
              "      flex-wrap:wrap;\n",
              "      gap: 12px;\n",
              "    }\n",
              "\n",
              "    .colab-df-convert {\n",
              "      background-color: #E8F0FE;\n",
              "      border: none;\n",
              "      border-radius: 50%;\n",
              "      cursor: pointer;\n",
              "      display: none;\n",
              "      fill: #1967D2;\n",
              "      height: 32px;\n",
              "      padding: 0 0 0 0;\n",
              "      width: 32px;\n",
              "    }\n",
              "\n",
              "    .colab-df-convert:hover {\n",
              "      background-color: #E2EBFA;\n",
              "      box-shadow: 0px 1px 2px rgba(60, 64, 67, 0.3), 0px 1px 3px 1px rgba(60, 64, 67, 0.15);\n",
              "      fill: #174EA6;\n",
              "    }\n",
              "\n",
              "    [theme=dark] .colab-df-convert {\n",
              "      background-color: #3B4455;\n",
              "      fill: #D2E3FC;\n",
              "    }\n",
              "\n",
              "    [theme=dark] .colab-df-convert:hover {\n",
              "      background-color: #434B5C;\n",
              "      box-shadow: 0px 1px 3px 1px rgba(0, 0, 0, 0.15);\n",
              "      filter: drop-shadow(0px 1px 2px rgba(0, 0, 0, 0.3));\n",
              "      fill: #FFFFFF;\n",
              "    }\n",
              "  </style>\n",
              "\n",
              "      <script>\n",
              "        const buttonEl =\n",
              "          document.querySelector('#df-04e52f0a-ef90-482e-8e9c-f7e06f138290 button.colab-df-convert');\n",
              "        buttonEl.style.display =\n",
              "          google.colab.kernel.accessAllowed ? 'block' : 'none';\n",
              "\n",
              "        async function convertToInteractive(key) {\n",
              "          const element = document.querySelector('#df-04e52f0a-ef90-482e-8e9c-f7e06f138290');\n",
              "          const dataTable =\n",
              "            await google.colab.kernel.invokeFunction('convertToInteractive',\n",
              "                                                     [key], {});\n",
              "          if (!dataTable) return;\n",
              "\n",
              "          const docLinkHtml = 'Like what you see? Visit the ' +\n",
              "            '<a target=\"_blank\" href=https://colab.research.google.com/notebooks/data_table.ipynb>data table notebook</a>'\n",
              "            + ' to learn more about interactive tables.';\n",
              "          element.innerHTML = '';\n",
              "          dataTable['output_type'] = 'display_data';\n",
              "          await google.colab.output.renderOutput(dataTable, element);\n",
              "          const docLink = document.createElement('div');\n",
              "          docLink.innerHTML = docLinkHtml;\n",
              "          element.appendChild(docLink);\n",
              "        }\n",
              "      </script>\n",
              "    </div>\n",
              "  </div>\n",
              "  "
            ]
          },
          "metadata": {},
          "execution_count": 3
        }
      ]
    },
    {
      "cell_type": "code",
      "source": [
        "X = df.iloc[:,:-1].values\n",
        "print(X)"
      ],
      "metadata": {
        "colab": {
          "base_uri": "https://localhost:8080/"
        },
        "id": "3A9WkY2_2MC_",
        "outputId": "2303e851-dee0-4414-b6a7-b686eeca46ae"
      },
      "execution_count": null,
      "outputs": [
        {
          "output_type": "stream",
          "name": "stdout",
          "text": [
            "[[0.         0.41666667 0.01694915 0.        ]\n",
            " [0.02777778 0.5        0.05084746 0.04166667]\n",
            " [0.16666667 0.20833333 0.59322034 0.66666667]\n",
            " [0.16666667 0.16666667 0.38983051 0.375     ]\n",
            " [0.16666667 0.45833333 0.08474576 0.04166667]\n",
            " [0.08333333 0.58333333 0.06779661 0.08333333]\n",
            " [0.08333333 0.66666667 0.         0.04166667]\n",
            " [0.08333333 0.5        0.06779661 0.04166667]\n",
            " [0.08333333 0.45833333 0.08474576 0.04166667]\n",
            " [0.11111111 0.5        0.05084746 0.04166667]\n",
            " [0.11111111 0.5        0.10169491 0.04166667]\n",
            " [0.13888889 0.58333333 0.15254237 0.04166667]\n",
            " [0.13888889 0.45833333 0.10169491 0.04166667]\n",
            " [0.19444444 0.125      0.38983051 0.375     ]\n",
            " [0.36111111 0.33333333 0.66101695 0.79166667]\n",
            " [0.13888889 0.41666667 0.06779661 0.        ]\n",
            " [0.16666667 0.41666667 0.06779661 0.04166667]\n",
            " [0.16666667 0.66666667 0.06779661 0.        ]\n",
            " [0.16666667 0.45833333 0.08474576 0.        ]\n",
            " [0.19444444 0.         0.42372881 0.375     ]\n",
            " [0.19444444 0.625      0.10169491 0.20833333]\n",
            " [0.19444444 0.58333333 0.10169491 0.125     ]\n",
            " [0.19444444 0.625      0.05084746 0.08333333]\n",
            " [0.19444444 0.66666667 0.06779661 0.04166667]\n",
            " [0.19444444 0.58333333 0.08474576 0.04166667]\n",
            " [0.19444444 0.54166667 0.06779661 0.04166667]\n",
            " [0.19444444 0.5        0.0338983  0.04166667]\n",
            " [0.19444444 0.41666667 0.10169491 0.04166667]\n",
            " [0.22222222 0.20833333 0.33898305 0.41666667]\n",
            " [0.22222222 0.54166667 0.11864407 0.16666667]\n",
            " [0.22222222 0.75       0.15254237 0.125     ]\n",
            " [0.22222222 0.70833333 0.08474576 0.125     ]\n",
            " [0.22222222 0.75       0.08474576 0.08333333]\n",
            " [0.22222222 0.625      0.06779661 0.08333333]\n",
            " [0.22222222 0.75       0.10169491 0.04166667]\n",
            " [0.22222222 0.625      0.06779661 0.04166667]\n",
            " [0.22222222 0.58333333 0.08474576 0.04166667]\n",
            " [0.25       0.29166667 0.49152542 0.54166667]\n",
            " [0.27777778 0.70833333 0.08474576 0.04166667]\n",
            " [0.30555556 0.41666667 0.59322034 0.58333333]\n",
            " [0.30555556 0.79166667 0.11864407 0.125     ]\n",
            " [0.25       0.625      0.08474576 0.04166667]\n",
            " [0.25       0.58333333 0.06779661 0.04166667]\n",
            " [0.25       0.875      0.08474576 0.        ]\n",
            " [0.30555556 0.58333333 0.11864407 0.04166667]\n",
            " [0.33333333 0.20833333 0.50847458 0.5       ]\n",
            " [0.33333333 0.125      0.50847458 0.5       ]\n",
            " [0.33333333 0.25       0.57627119 0.45833333]\n",
            " [0.30555556 0.79166667 0.05084746 0.125     ]\n",
            " [0.30555556 0.58333333 0.08474576 0.125     ]\n",
            " [0.30555556 0.70833333 0.08474576 0.04166667]\n",
            " [0.33333333 0.16666667 0.47457627 0.41666667]\n",
            " [0.33333333 0.16666667 0.45762712 0.375     ]\n",
            " [0.33333333 0.91666667 0.06779661 0.04166667]\n",
            " [0.33333333 0.625      0.05084746 0.04166667]\n",
            " [0.36111111 0.41666667 0.59322034 0.58333333]\n",
            " [0.36111111 0.41666667 0.52542373 0.5       ]\n",
            " [0.36111111 0.375      0.44067797 0.5       ]\n",
            " [0.36111111 0.29166667 0.54237288 0.5       ]\n",
            " [0.36111111 0.20833333 0.49152542 0.41666667]\n",
            " [0.38888889 0.20833333 0.6779661  0.79166667]\n",
            " [0.38888889 0.375      0.54237288 0.5       ]\n",
            " [0.38888889 0.33333333 0.59322034 0.5       ]\n",
            " [0.38888889 0.33333333 0.52542373 0.5       ]\n",
            " [0.38888889 0.41666667 0.54237288 0.45833333]\n",
            " [0.38888889 0.25       0.42372881 0.375     ]\n",
            " [0.38888889 1.         0.08474576 0.125     ]\n",
            " [0.38888889 0.75       0.11864407 0.08333333]\n",
            " [0.41666667 0.33333333 0.69491525 0.95833333]\n",
            " [0.41666667 0.29166667 0.69491525 0.75      ]\n",
            " [0.41666667 0.29166667 0.69491525 0.75      ]\n",
            " [0.41666667 0.29166667 0.49152542 0.45833333]\n",
            " [0.41666667 0.25       0.50847458 0.45833333]\n",
            " [0.41666667 0.29166667 0.52542373 0.375     ]\n",
            " [0.41666667 0.83333333 0.0338983  0.04166667]\n",
            " [0.44444444 0.5        0.6440678  0.70833333]\n",
            " [0.44444444 0.41666667 0.69491525 0.70833333]\n",
            " [0.44444444 0.41666667 0.54237288 0.58333333]\n",
            " [0.47222222 0.41666667 0.6440678  0.70833333]\n",
            " [0.47222222 0.58333333 0.59322034 0.625     ]\n",
            " [0.47222222 0.29166667 0.69491525 0.625     ]\n",
            " [0.47222222 0.375      0.59322034 0.58333333]\n",
            " [0.47222222 0.08333333 0.6779661  0.58333333]\n",
            " [0.47222222 0.08333333 0.50847458 0.375     ]\n",
            " [0.5        0.41666667 0.66101695 0.70833333]\n",
            " [0.5        0.41666667 0.61016949 0.54166667]\n",
            " [0.5        0.375      0.62711864 0.54166667]\n",
            " [0.5        0.25       0.77966102 0.54166667]\n",
            " [0.5        0.33333333 0.50847458 0.5       ]\n",
            " [0.5        0.33333333 0.62711864 0.45833333]\n",
            " [0.52777778 0.58333333 0.74576271 0.91666667]\n",
            " [0.52777778 0.33333333 0.6440678  0.70833333]\n",
            " [0.52777778 0.08333333 0.59322034 0.58333333]\n",
            " [0.52777778 0.375      0.55932203 0.5       ]\n",
            " [0.55555556 0.54166667 0.84745763 1.        ]\n",
            " [0.55555556 0.58333333 0.77966102 0.95833333]\n",
            " [0.55555556 0.20833333 0.6779661  0.75      ]\n",
            " [0.55555556 0.375      0.77966102 0.70833333]\n",
            " [0.55555556 0.29166667 0.66101695 0.70833333]\n",
            " [0.55555556 0.54166667 0.62711864 0.625     ]\n",
            " [0.55555556 0.33333333 0.69491525 0.58333333]\n",
            " [0.55555556 0.20833333 0.66101695 0.58333333]\n",
            " [0.55555556 0.125      0.57627119 0.5       ]\n",
            " [0.58333333 0.5        0.72881356 0.91666667]\n",
            " [0.58333333 0.33333333 0.77966102 0.875     ]\n",
            " [0.58333333 0.33333333 0.77966102 0.83333333]\n",
            " [0.58333333 0.29166667 0.72881356 0.75      ]\n",
            " [0.58333333 0.45833333 0.76271186 0.70833333]\n",
            " [0.61111111 0.41666667 0.81355932 0.875     ]\n",
            " [0.61111111 0.5        0.69491525 0.79166667]\n",
            " [0.61111111 0.41666667 0.71186441 0.79166667]\n",
            " [0.61111111 0.41666667 0.76271186 0.70833333]\n",
            " [0.66666667 0.41666667 0.6779661  0.66666667]\n",
            " [0.66666667 0.45833333 0.62711864 0.58333333]\n",
            " [0.66666667 0.45833333 0.57627119 0.54166667]\n",
            " [0.69444444 0.5        0.83050848 0.91666667]\n",
            " [0.69444444 0.41666667 0.76271186 0.83333333]\n",
            " [0.69444444 0.33333333 0.6440678  0.54166667]\n",
            " [0.72222222 0.5        0.79661017 0.91666667]\n",
            " [0.72222222 0.45833333 0.69491525 0.91666667]\n",
            " [0.72222222 0.45833333 0.74576271 0.83333333]\n",
            " [0.72222222 0.45833333 0.66101695 0.58333333]\n",
            " [0.75       0.5        0.62711864 0.54166667]\n",
            " [0.77777778 0.41666667 0.83050848 0.83333333]\n",
            " [0.80555556 0.66666667 0.86440678 1.        ]\n",
            " [0.80555556 0.5        0.84745763 0.70833333]\n",
            " [0.80555556 0.41666667 0.81355932 0.625     ]\n",
            " [0.83333333 0.375      0.89830508 0.70833333]\n",
            " [0.86111111 0.33333333 0.86440678 0.75      ]\n",
            " [0.91666667 0.41666667 0.94915254 0.83333333]\n",
            " [0.94444444 0.41666667 0.86440678 0.91666667]\n",
            " [0.94444444 0.25       1.         0.91666667]\n",
            " [0.94444444 0.75       0.96610169 0.875     ]\n",
            " [0.94444444 0.33333333 0.96610169 0.79166667]\n",
            " [1.         0.75       0.91525424 0.79166667]]\n"
          ]
        }
      ]
    },
    {
      "cell_type": "code",
      "source": [
        "from sklearn.cluster import KMeans\n",
        "wcss = []\n",
        "for i in range (1,11):\n",
        "  kmeans = KMeans(n_clusters=i, init = 'k-means++', random_state=0)\n",
        "  kmeans.fit(X)\n",
        "  wcss.append(kmeans.inertia_)\n",
        "plt.plot(range(1, 11), wcss)\n",
        "plt.title(\"Elbow Method\")\n",
        "plt.xlabel(\"No. of Clusters\")\n",
        "plt.ylabel(\"WCSS\")\n",
        "plt.show()"
      ],
      "metadata": {
        "colab": {
          "base_uri": "https://localhost:8080/",
          "height": 819
        },
        "id": "VU0TvSL52On9",
        "outputId": "b3476064-411e-4eb8-ea47-b0568e08ffc6"
      },
      "execution_count": null,
      "outputs": [
        {
          "output_type": "stream",
          "name": "stderr",
          "text": [
            "/usr/local/lib/python3.10/dist-packages/sklearn/cluster/_kmeans.py:870: FutureWarning: The default value of `n_init` will change from 10 to 'auto' in 1.4. Set the value of `n_init` explicitly to suppress the warning\n",
            "  warnings.warn(\n",
            "/usr/local/lib/python3.10/dist-packages/sklearn/cluster/_kmeans.py:870: FutureWarning: The default value of `n_init` will change from 10 to 'auto' in 1.4. Set the value of `n_init` explicitly to suppress the warning\n",
            "  warnings.warn(\n",
            "/usr/local/lib/python3.10/dist-packages/sklearn/cluster/_kmeans.py:870: FutureWarning: The default value of `n_init` will change from 10 to 'auto' in 1.4. Set the value of `n_init` explicitly to suppress the warning\n",
            "  warnings.warn(\n",
            "/usr/local/lib/python3.10/dist-packages/sklearn/cluster/_kmeans.py:870: FutureWarning: The default value of `n_init` will change from 10 to 'auto' in 1.4. Set the value of `n_init` explicitly to suppress the warning\n",
            "  warnings.warn(\n",
            "/usr/local/lib/python3.10/dist-packages/sklearn/cluster/_kmeans.py:870: FutureWarning: The default value of `n_init` will change from 10 to 'auto' in 1.4. Set the value of `n_init` explicitly to suppress the warning\n",
            "  warnings.warn(\n",
            "/usr/local/lib/python3.10/dist-packages/sklearn/cluster/_kmeans.py:870: FutureWarning: The default value of `n_init` will change from 10 to 'auto' in 1.4. Set the value of `n_init` explicitly to suppress the warning\n",
            "  warnings.warn(\n",
            "/usr/local/lib/python3.10/dist-packages/sklearn/cluster/_kmeans.py:870: FutureWarning: The default value of `n_init` will change from 10 to 'auto' in 1.4. Set the value of `n_init` explicitly to suppress the warning\n",
            "  warnings.warn(\n",
            "/usr/local/lib/python3.10/dist-packages/sklearn/cluster/_kmeans.py:870: FutureWarning: The default value of `n_init` will change from 10 to 'auto' in 1.4. Set the value of `n_init` explicitly to suppress the warning\n",
            "  warnings.warn(\n",
            "/usr/local/lib/python3.10/dist-packages/sklearn/cluster/_kmeans.py:870: FutureWarning: The default value of `n_init` will change from 10 to 'auto' in 1.4. Set the value of `n_init` explicitly to suppress the warning\n",
            "  warnings.warn(\n",
            "/usr/local/lib/python3.10/dist-packages/sklearn/cluster/_kmeans.py:870: FutureWarning: The default value of `n_init` will change from 10 to 'auto' in 1.4. Set the value of `n_init` explicitly to suppress the warning\n",
            "  warnings.warn(\n"
          ]
        },
        {
          "output_type": "display_data",
          "data": {
            "text/plain": [
              "<Figure size 640x480 with 1 Axes>"
            ],
            "image/png": "[encoded data removed]"
          },
          "metadata": {}
        }
      ]
    },
    {
      "cell_type": "code",
      "source": [
        "import sklearn.metrics as metrics\n",
        "for i in range(2,11):\n",
        "  kmeans = KMeans(n_clusters = i, init = 'k-means++', random_state = 0)\n",
        "  labels = kmeans.fit(X).labels_\n",
        "  print(\"Silhouette score for k(clusters) = \"+ str(i)+ \" is\" +\n",
        "        str(metrics.silhouette_score(X, labels,metric =\"euclidean\", sample_size=1000, random_state=0)))"
      ],
      "metadata": {
        "colab": {
          "base_uri": "https://localhost:8080/"
        },
        "id": "OR2Ejk9B2SON",
        "outputId": "5b5e6bf7-7ebb-4d91-c51c-9305b18ecd0e"
      },
      "execution_count": null,
      "outputs": [
        {
          "output_type": "stream",
          "name": "stderr",
          "text": [
            "/usr/local/lib/python3.10/dist-packages/sklearn/cluster/_kmeans.py:870: FutureWarning: The default value of `n_init` will change from 10 to 'auto' in 1.4. Set the value of `n_init` explicitly to suppress the warning\n",
            "  warnings.warn(\n",
            "/usr/local/lib/python3.10/dist-packages/sklearn/cluster/_kmeans.py:870: FutureWarning: The default value of `n_init` will change from 10 to 'auto' in 1.4. Set the value of `n_init` explicitly to suppress the warning\n",
            "  warnings.warn(\n"
          ]
        },
        {
          "output_type": "stream",
          "name": "stdout",
          "text": [
            "Silhouette score for k(clusters) = 2 is0.6294315145772044\n",
            "Silhouette score for k(clusters) = 3 is0.510933678659201\n"
          ]
        },
        {
          "output_type": "stream",
          "name": "stderr",
          "text": [
            "/usr/local/lib/python3.10/dist-packages/sklearn/cluster/_kmeans.py:870: FutureWarning: The default value of `n_init` will change from 10 to 'auto' in 1.4. Set the value of `n_init` explicitly to suppress the warning\n",
            "  warnings.warn(\n"
          ]
        },
        {
          "output_type": "stream",
          "name": "stdout",
          "text": [
            "Silhouette score for k(clusters) = 4 is0.4508003438101341\n"
          ]
        },
        {
          "output_type": "stream",
          "name": "stderr",
          "text": [
            "/usr/local/lib/python3.10/dist-packages/sklearn/cluster/_kmeans.py:870: FutureWarning: The default value of `n_init` will change from 10 to 'auto' in 1.4. Set the value of `n_init` explicitly to suppress the warning\n",
            "  warnings.warn(\n"
          ]
        },
        {
          "output_type": "stream",
          "name": "stdout",
          "text": [
            "Silhouette score for k(clusters) = 5 is0.3594655757823704\n",
            "Silhouette score for k(clusters) = 6 is0.3251994066083714\n"
          ]
        },
        {
          "output_type": "stream",
          "name": "stderr",
          "text": [
            "/usr/local/lib/python3.10/dist-packages/sklearn/cluster/_kmeans.py:870: FutureWarning: The default value of `n_init` will change from 10 to 'auto' in 1.4. Set the value of `n_init` explicitly to suppress the warning\n",
            "  warnings.warn(\n",
            "/usr/local/lib/python3.10/dist-packages/sklearn/cluster/_kmeans.py:870: FutureWarning: The default value of `n_init` will change from 10 to 'auto' in 1.4. Set the value of `n_init` explicitly to suppress the warning\n",
            "  warnings.warn(\n"
          ]
        },
        {
          "output_type": "stream",
          "name": "stdout",
          "text": [
            "Silhouette score for k(clusters) = 7 is0.32845750988987854\n",
            "Silhouette score for k(clusters) = 8 is0.3403980660072228\n"
          ]
        },
        {
          "output_type": "stream",
          "name": "stderr",
          "text": [
            "/usr/local/lib/python3.10/dist-packages/sklearn/cluster/_kmeans.py:870: FutureWarning: The default value of `n_init` will change from 10 to 'auto' in 1.4. Set the value of `n_init` explicitly to suppress the warning\n",
            "  warnings.warn(\n",
            "/usr/local/lib/python3.10/dist-packages/sklearn/cluster/_kmeans.py:870: FutureWarning: The default value of `n_init` will change from 10 to 'auto' in 1.4. Set the value of `n_init` explicitly to suppress the warning\n",
            "  warnings.warn(\n"
          ]
        },
        {
          "output_type": "stream",
          "name": "stdout",
          "text": [
            "Silhouette score for k(clusters) = 9 is0.3271639796999821\n",
            "Silhouette score for k(clusters) = 10 is0.33834807337550604\n"
          ]
        },
        {
          "output_type": "stream",
          "name": "stderr",
          "text": [
            "/usr/local/lib/python3.10/dist-packages/sklearn/cluster/_kmeans.py:870: FutureWarning: The default value of `n_init` will change from 10 to 'auto' in 1.4. Set the value of `n_init` explicitly to suppress the warning\n",
            "  warnings.warn(\n"
          ]
        }
      ]
    },
    {
      "cell_type": "markdown",
      "source": [
        "##The elbow method and the silhouette method are both commonly used techniques for determining the optimal number of clusters in a clustering algorithm.\n",
        "\n",
        "###The elbow method involves plotting the within-cluster sum of squares (WCSS) against the number of clusters, and looking for the \"elbow\" point in the plot where the rate of decrease in WCSS slows down. This elbow point represents a trade-off between the quality of clustering and the number of clusters used, and is often considered the optimal number of clusters.\n",
        "\n",
        "###The silhouette method, on the other hand, involves computing the silhouette score for each point in the dataset for different values of k, and then choosing the k with the highest average silhouette score. The silhouette score measures the similarity of each point to its own cluster compared to other clusters, and a higher score indicates better clustering.\n",
        "\n",
        "###Both methods have their strengths and weaknesses, and the choice of which one to use depends on the specific dataset and clustering algorithm being used. In general, the elbow method is more straightforward and easier to interpret, while the silhouette method may be more robust and informative for datasets with unevenly sized or non-convex clusters."
      ],
      "metadata": {
        "id": "XK4XgtOL2Z1I"
      }
    },
    {
      "cell_type": "code",
      "source": [
        "kmeans = KMeans(n_clusters = 2, init=\"k-means++\", random_state=0)\n",
        "y_kmeans = kmeans.fit_predict(X)\n",
        "print(y_kmeans)"
      ],
      "metadata": {
        "colab": {
          "base_uri": "https://localhost:8080/"
        },
        "id": "guzmFJ_52Udu",
        "outputId": "2a40e47c-ffc3-451d-9291-40f2ee639ac3"
      },
      "execution_count": null,
      "outputs": [
        {
          "output_type": "stream",
          "name": "stdout",
          "text": [
            "[0 0 1 1 0 0 0 0 0 0 0 0 0 1 1 0 0 0 0 1 0 0 0 0 0 0 0 0 1 0 0 0 0 0 0 0 0\n",
            " 1 0 1 0 0 0 0 0 1 1 1 0 0 0 1 1 0 0 1 1 1 1 1 1 1 1 1 1 1 0 0 1 1 1 1 1 1\n",
            " 0 1 1 1 1 1 1 1 1 1 1 1 1 1 1 1 1 1 1 1 1 1 1 1 1 1 1 1 1 1 1 1 1 1 1 1 1\n",
            " 1 1 1 1 1 1 1 1 1 1 1 1 1 1 1 1 1 1 1 1 1 1 1 1]"
          ]
        },
        {
          "output_type": "stream",
          "name": "stderr",
          "text": [
            "/usr/local/lib/python3.10/dist-packages/sklearn/cluster/_kmeans.py:870: FutureWarning: The default value of `n_init` will change from 10 to 'auto' in 1.4. Set the value of `n_init` explicitly to suppress the warning\n",
            "  warnings.warn(\n"
          ]
        },
        {
          "output_type": "stream",
          "name": "stdout",
          "text": [
            "\n"
          ]
        }
      ]
    },
    {
      "cell_type": "code",
      "source": [
        "plt.scatter(X[y_kmeans == 0, 0], X[y_kmeans == 0, 1], s = 25, c = 'red', label = 'Cluster 1')\n",
        "plt.scatter(X[y_kmeans == 1, 0], X[y_kmeans == 1, 1], s = 25, c = 'blue', label = 'Cluster 2')\n",
        "plt.scatter(kmeans.cluster_centers_[:, 0], kmeans.cluster_centers_[:, 1], s = 50, c = 'black', label = 'Centroids')\n",
        "plt.title('Clusters')\n",
        "plt.legend()\n",
        "plt.show()"
      ],
      "metadata": {
        "colab": {
          "base_uri": "https://localhost:8080/",
          "height": 452
        },
        "id": "6H288-oN2eRT",
        "outputId": "3e8e1888-2007-4c40-8a86-c8c3cc11600a"
      },
      "execution_count": null,
      "outputs": [
        {
          "output_type": "display_data",
          "data": {
            "text/plain": [
              "<Figure size 640x480 with 1 Axes>"
            ],
            "image/png": "[encoded data removed]"
          },
          "metadata": {}
        }
      ]
    }
  ]
}